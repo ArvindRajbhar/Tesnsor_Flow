{
 "cells": [
  {
   "cell_type": "code",
   "execution_count": 1,
   "id": "7c44ab5c",
   "metadata": {},
   "outputs": [
    {
     "name": "stdout",
     "output_type": "stream",
     "text": [
      "WARNING:tensorflow:From C:\\Users\\arvin\\anaconda3\\Lib\\site-packages\\keras\\src\\losses.py:2976: The name tf.losses.sparse_softmax_cross_entropy is deprecated. Please use tf.compat.v1.losses.sparse_softmax_cross_entropy instead.\n",
      "\n"
     ]
    }
   ],
   "source": [
    "import tensorflow as tf"
   ]
  },
  {
   "cell_type": "code",
   "execution_count": 2,
   "id": "d4c23ef7",
   "metadata": {},
   "outputs": [],
   "source": [
    "con=tf.constant(44)"
   ]
  },
  {
   "cell_type": "code",
   "execution_count": 3,
   "id": "032948e7",
   "metadata": {},
   "outputs": [
    {
     "data": {
      "text/plain": [
       "<tf.Tensor: shape=(), dtype=int32, numpy=44>"
      ]
     },
     "execution_count": 3,
     "metadata": {},
     "output_type": "execute_result"
    }
   ],
   "source": [
    "con"
   ]
  },
  {
   "cell_type": "code",
   "execution_count": 4,
   "id": "ca03ed03",
   "metadata": {},
   "outputs": [],
   "source": [
    "constant_mat= tf.constant([[1,3],[2,4]], dtype=tf.int32)"
   ]
  },
  {
   "cell_type": "code",
   "execution_count": 5,
   "id": "23290042",
   "metadata": {},
   "outputs": [
    {
     "data": {
      "text/plain": [
       "<tf.Tensor: shape=(2, 2), dtype=int32, numpy=\n",
       "array([[1, 3],\n",
       "       [2, 4]])>"
      ]
     },
     "execution_count": 5,
     "metadata": {},
     "output_type": "execute_result"
    }
   ],
   "source": [
    "constant_mat"
   ]
  },
  {
   "cell_type": "code",
   "execution_count": 6,
   "id": "19236002",
   "metadata": {},
   "outputs": [],
   "source": [
    "a=tf.ones([3,3], dtype=tf.int32)"
   ]
  },
  {
   "cell_type": "code",
   "execution_count": 7,
   "id": "2c55c899",
   "metadata": {},
   "outputs": [
    {
     "data": {
      "text/plain": [
       "<tf.Tensor: shape=(3, 3), dtype=int32, numpy=\n",
       "array([[1, 1, 1],\n",
       "       [1, 1, 1],\n",
       "       [1, 1, 1]])>"
      ]
     },
     "execution_count": 7,
     "metadata": {},
     "output_type": "execute_result"
    }
   ],
   "source": [
    "a"
   ]
  },
  {
   "cell_type": "code",
   "execution_count": 8,
   "id": "3a66e1d1",
   "metadata": {},
   "outputs": [
    {
     "data": {
      "text/plain": [
       "<tf.Tensor: shape=(2, 3), dtype=int32, numpy=\n",
       "array([[-1, -1, -1],\n",
       "       [-1, -1, -1]])>"
      ]
     },
     "execution_count": 8,
     "metadata": {},
     "output_type": "execute_result"
    }
   ],
   "source": [
    "-1*tf.ones(shape=(2,3), dtype=tf.int32)"
   ]
  },
  {
   "cell_type": "code",
   "execution_count": 9,
   "id": "4a204e0d",
   "metadata": {},
   "outputs": [
    {
     "data": {
      "text/plain": [
       "<tf.Tensor: shape=(5, 5), dtype=float32, numpy=\n",
       "array([[0., 0., 0., 0., 0.],\n",
       "       [0., 0., 0., 0., 0.],\n",
       "       [0., 0., 0., 0., 0.],\n",
       "       [0., 0., 0., 0., 0.],\n",
       "       [0., 0., 0., 0., 0.]], dtype=float32)>"
      ]
     },
     "execution_count": 9,
     "metadata": {},
     "output_type": "execute_result"
    }
   ],
   "source": [
    "tf.zeros(shape=(5,5))"
   ]
  },
  {
   "cell_type": "code",
   "execution_count": 10,
   "id": "a4b8c3e6",
   "metadata": {},
   "outputs": [],
   "source": [
    "b=tf.constant([[1,2,3],[6,7,8]], dtype=tf.int32)\n",
    "c=tf.constant([[4,3,2],[4,3,2]], dtype=tf.int32)"
   ]
  },
  {
   "cell_type": "code",
   "execution_count": 11,
   "id": "d05c92a7",
   "metadata": {},
   "outputs": [
    {
     "data": {
      "text/plain": [
       "<tf.Tensor: shape=(2, 3), dtype=int32, numpy=\n",
       "array([[ 5,  5,  5],\n",
       "       [10, 10, 10]])>"
      ]
     },
     "execution_count": 11,
     "metadata": {},
     "output_type": "execute_result"
    }
   ],
   "source": [
    "b+c"
   ]
  },
  {
   "cell_type": "code",
   "execution_count": 12,
   "id": "549ec4b8",
   "metadata": {},
   "outputs": [
    {
     "data": {
      "text/plain": [
       "<tf.Tensor: shape=(2, 3), dtype=int32, numpy=\n",
       "array([[-3, -1,  1],\n",
       "       [ 2,  4,  6]])>"
      ]
     },
     "execution_count": 12,
     "metadata": {},
     "output_type": "execute_result"
    }
   ],
   "source": [
    "tf.subtract(b,c)"
   ]
  },
  {
   "cell_type": "markdown",
   "id": "79d5373e",
   "metadata": {},
   "source": [
    "#  Random Constant"
   ]
  },
  {
   "cell_type": "code",
   "execution_count": 13,
   "id": "1c903eeb",
   "metadata": {},
   "outputs": [
    {
     "data": {
      "text/plain": [
       "<tf.Tensor: shape=(2, 2), dtype=float32, numpy=\n",
       "array([[-0.6866737 , -0.7545305 ],\n",
       "       [-0.5946944 ,  0.42741606]], dtype=float32)>"
      ]
     },
     "execution_count": 13,
     "metadata": {},
     "output_type": "execute_result"
    }
   ],
   "source": [
    "tf.random.normal(shape=(2,2),mean=0, stddev=1.0)"
   ]
  },
  {
   "cell_type": "code",
   "execution_count": 14,
   "id": "1b163e1e",
   "metadata": {},
   "outputs": [
    {
     "data": {
      "text/plain": [
       "<tf.Tensor: shape=(2, 2), dtype=float32, numpy=\n",
       "array([[1.8738651, 7.3238015],\n",
       "       [5.6302824, 1.8214357]], dtype=float32)>"
      ]
     },
     "execution_count": 14,
     "metadata": {},
     "output_type": "execute_result"
    }
   ],
   "source": [
    "tf.random.uniform([2,2], minval=0, maxval=10)"
   ]
  },
  {
   "cell_type": "markdown",
   "id": "cf965662",
   "metadata": {},
   "source": [
    "# Variables"
   ]
  },
  {
   "cell_type": "code",
   "execution_count": 15,
   "id": "5b29e119",
   "metadata": {},
   "outputs": [],
   "source": [
    "var1=tf.Variable([[1,2,3],[6,7,8]])"
   ]
  },
  {
   "cell_type": "code",
   "execution_count": 23,
   "id": "78acb632",
   "metadata": {},
   "outputs": [],
   "source": [
    "var2=tf.Variable(40)"
   ]
  },
  {
   "cell_type": "code",
   "execution_count": 24,
   "id": "30e2fb72",
   "metadata": {},
   "outputs": [
    {
     "data": {
      "text/plain": [
       "<tf.Variable 'UnreadVariable' shape=() dtype=int32, numpy=33>"
      ]
     },
     "execution_count": 24,
     "metadata": {},
     "output_type": "execute_result"
    }
   ],
   "source": [
    "var2.assign(33)"
   ]
  },
  {
   "cell_type": "code",
   "execution_count": 25,
   "id": "bce35471",
   "metadata": {},
   "outputs": [
    {
     "data": {
      "text/plain": [
       "<tf.Variable 'Variable:0' shape=() dtype=int32, numpy=33>"
      ]
     },
     "execution_count": 25,
     "metadata": {},
     "output_type": "execute_result"
    }
   ],
   "source": [
    "var2"
   ]
  },
  {
   "cell_type": "code",
   "execution_count": 26,
   "id": "b30a0867",
   "metadata": {},
   "outputs": [
    {
     "data": {
      "text/plain": [
       "tensorflow.python.ops.resource_variable_ops.ResourceVariable"
      ]
     },
     "execution_count": 26,
     "metadata": {},
     "output_type": "execute_result"
    }
   ],
   "source": [
    "type(var2)"
   ]
  },
  {
   "cell_type": "code",
   "execution_count": 27,
   "id": "69c27f47",
   "metadata": {},
   "outputs": [],
   "source": [
    "var2=30"
   ]
  },
  {
   "cell_type": "code",
   "execution_count": 28,
   "id": "fc2f9c82",
   "metadata": {},
   "outputs": [
    {
     "data": {
      "text/plain": [
       "int"
      ]
     },
     "execution_count": 28,
     "metadata": {},
     "output_type": "execute_result"
    }
   ],
   "source": [
    "type(var2)"
   ]
  },
  {
   "cell_type": "code",
   "execution_count": 29,
   "id": "bdf649f1",
   "metadata": {},
   "outputs": [
    {
     "data": {
      "text/plain": [
       "<tf.Variable 'UnreadVariable' shape=(2, 3) dtype=int32, numpy=\n",
       "array([[14,  2,  3],\n",
       "       [ 6,  7,  8]])>"
      ]
     },
     "execution_count": 29,
     "metadata": {},
     "output_type": "execute_result"
    }
   ],
   "source": [
    "var1.assign([[14,2,3],[6,7,8]])"
   ]
  },
  {
   "cell_type": "code",
   "execution_count": 30,
   "id": "ec806a32",
   "metadata": {},
   "outputs": [
    {
     "data": {
      "text/plain": [
       "<tf.Variable 'UnreadVariable' shape=(2, 3) dtype=int32, numpy=\n",
       "array([[14,  2,  3],\n",
       "       [ 6, 34,  8]])>"
      ]
     },
     "execution_count": 30,
     "metadata": {},
     "output_type": "execute_result"
    }
   ],
   "source": [
    "var1[1,1].assign(34) "
   ]
  },
  {
   "cell_type": "code",
   "execution_count": 31,
   "id": "b36c3ea9",
   "metadata": {},
   "outputs": [
    {
     "ename": "ValueError",
     "evalue": "Cannot assign value to variable ' Variable:0': Shape mismatch.The variable shape (2, 3), and the assigned value shape (3, 3) are incompatible.",
     "output_type": "error",
     "traceback": [
      "\u001b[1;31m---------------------------------------------------------------------------\u001b[0m",
      "\u001b[1;31mValueError\u001b[0m                                Traceback (most recent call last)",
      "Cell \u001b[1;32mIn[31], line 1\u001b[0m\n\u001b[1;32m----> 1\u001b[0m var1\u001b[38;5;241m.\u001b[39massign([[\u001b[38;5;241m14\u001b[39m,\u001b[38;5;241m2\u001b[39m,\u001b[38;5;241m3\u001b[39m],[\u001b[38;5;241m6\u001b[39m,\u001b[38;5;241m7\u001b[39m,\u001b[38;5;241m8\u001b[39m],[\u001b[38;5;241m3\u001b[39m,\u001b[38;5;241m3\u001b[39m,\u001b[38;5;241m3\u001b[39m]])\n",
      "File \u001b[1;32m~\\anaconda3\\Lib\\site-packages\\tensorflow\\python\\ops\\weak_tensor_ops.py:142\u001b[0m, in \u001b[0;36mweak_tensor_binary_op_wrapper.<locals>.wrapper\u001b[1;34m(*args, **kwargs)\u001b[0m\n\u001b[0;32m    140\u001b[0m \u001b[38;5;28;01mdef\u001b[39;00m \u001b[38;5;21mwrapper\u001b[39m(\u001b[38;5;241m*\u001b[39margs, \u001b[38;5;241m*\u001b[39m\u001b[38;5;241m*\u001b[39mkwargs):\n\u001b[0;32m    141\u001b[0m   \u001b[38;5;28;01mif\u001b[39;00m \u001b[38;5;129;01mnot\u001b[39;00m ops\u001b[38;5;241m.\u001b[39mis_auto_dtype_conversion_enabled():\n\u001b[1;32m--> 142\u001b[0m     \u001b[38;5;28;01mreturn\u001b[39;00m op(\u001b[38;5;241m*\u001b[39margs, \u001b[38;5;241m*\u001b[39m\u001b[38;5;241m*\u001b[39mkwargs)\n\u001b[0;32m    143\u001b[0m   bound_arguments \u001b[38;5;241m=\u001b[39m signature\u001b[38;5;241m.\u001b[39mbind(\u001b[38;5;241m*\u001b[39margs, \u001b[38;5;241m*\u001b[39m\u001b[38;5;241m*\u001b[39mkwargs)\n\u001b[0;32m    144\u001b[0m   bound_arguments\u001b[38;5;241m.\u001b[39mapply_defaults()\n",
      "File \u001b[1;32m~\\anaconda3\\Lib\\site-packages\\tensorflow\\python\\ops\\resource_variable_ops.py:1046\u001b[0m, in \u001b[0;36mBaseResourceVariable.assign\u001b[1;34m(self, value, use_locking, name, read_value)\u001b[0m\n\u001b[0;32m   1044\u001b[0m   \u001b[38;5;28;01melse\u001b[39;00m:\n\u001b[0;32m   1045\u001b[0m     tensor_name \u001b[38;5;241m=\u001b[39m \u001b[38;5;124m\"\u001b[39m\u001b[38;5;124m \u001b[39m\u001b[38;5;124m\"\u001b[39m \u001b[38;5;241m+\u001b[39m \u001b[38;5;28mstr\u001b[39m(\u001b[38;5;28mself\u001b[39m\u001b[38;5;241m.\u001b[39mname)\n\u001b[1;32m-> 1046\u001b[0m   \u001b[38;5;28;01mraise\u001b[39;00m \u001b[38;5;167;01mValueError\u001b[39;00m(\n\u001b[0;32m   1047\u001b[0m       (\u001b[38;5;124mf\u001b[39m\u001b[38;5;124m\"\u001b[39m\u001b[38;5;124mCannot assign value to variable \u001b[39m\u001b[38;5;124m'\u001b[39m\u001b[38;5;132;01m{\u001b[39;00mtensor_name\u001b[38;5;132;01m}\u001b[39;00m\u001b[38;5;124m'\u001b[39m\u001b[38;5;124m: Shape mismatch.\u001b[39m\u001b[38;5;124m\"\u001b[39m\n\u001b[0;32m   1048\u001b[0m        \u001b[38;5;124mf\u001b[39m\u001b[38;5;124m\"\u001b[39m\u001b[38;5;124mThe variable shape \u001b[39m\u001b[38;5;132;01m{\u001b[39;00m\u001b[38;5;28mself\u001b[39m\u001b[38;5;241m.\u001b[39m_shape\u001b[38;5;132;01m}\u001b[39;00m\u001b[38;5;124m, and the \u001b[39m\u001b[38;5;124m\"\u001b[39m\n\u001b[0;32m   1049\u001b[0m        \u001b[38;5;124mf\u001b[39m\u001b[38;5;124m\"\u001b[39m\u001b[38;5;124massigned value shape \u001b[39m\u001b[38;5;132;01m{\u001b[39;00mvalue_tensor\u001b[38;5;241m.\u001b[39mshape\u001b[38;5;132;01m}\u001b[39;00m\u001b[38;5;124m are incompatible.\u001b[39m\u001b[38;5;124m\"\u001b[39m))\n\u001b[0;32m   1050\u001b[0m kwargs \u001b[38;5;241m=\u001b[39m {}\n\u001b[0;32m   1051\u001b[0m \u001b[38;5;28;01mif\u001b[39;00m forward_compat\u001b[38;5;241m.\u001b[39mforward_compatible(\u001b[38;5;241m2022\u001b[39m, \u001b[38;5;241m3\u001b[39m, \u001b[38;5;241m23\u001b[39m):\n\u001b[0;32m   1052\u001b[0m   \u001b[38;5;66;03m# If the shape is fully defined, we do a runtime check with the shape of\u001b[39;00m\n\u001b[0;32m   1053\u001b[0m   \u001b[38;5;66;03m# value.\u001b[39;00m\n",
      "\u001b[1;31mValueError\u001b[0m: Cannot assign value to variable ' Variable:0': Shape mismatch.The variable shape (2, 3), and the assigned value shape (3, 3) are incompatible."
     ]
    }
   ],
   "source": [
    "var1.assign([[14,2,3],[6,7,8],[3,3,3]])"
   ]
  },
  {
   "cell_type": "code",
   "execution_count": 33,
   "id": "ab739b3a",
   "metadata": {},
   "outputs": [],
   "source": [
    "var3=tf.Variable([[1,2,3],[6,7,8]])"
   ]
  },
  {
   "cell_type": "code",
   "execution_count": 34,
   "id": "54dad7bd",
   "metadata": {},
   "outputs": [
    {
     "data": {
      "text/plain": [
       "TensorShape([2, 3])"
      ]
     },
     "execution_count": 34,
     "metadata": {},
     "output_type": "execute_result"
    }
   ],
   "source": [
    "var3.shape"
   ]
  },
  {
   "cell_type": "code",
   "execution_count": 35,
   "id": "cd325bf6",
   "metadata": {},
   "outputs": [
    {
     "data": {
      "text/plain": [
       "<tf.Tensor: shape=(3, 2), dtype=int32, numpy=\n",
       "array([[1, 2],\n",
       "       [3, 6],\n",
       "       [7, 8]])>"
      ]
     },
     "execution_count": 35,
     "metadata": {},
     "output_type": "execute_result"
    }
   ],
   "source": [
    "tf.reshape(var3, [3,2])"
   ]
  },
  {
   "cell_type": "markdown",
   "id": "08a00711",
   "metadata": {},
   "source": [
    "# Mathematical operations"
   ]
  },
  {
   "cell_type": "code",
   "execution_count": 36,
   "id": "068a1bc1",
   "metadata": {},
   "outputs": [
    {
     "data": {
      "text/plain": [
       "<tf.Variable 'Variable:0' shape=(2, 3) dtype=int32, numpy=\n",
       "array([[14,  2,  3],\n",
       "       [ 6, 34,  8]])>"
      ]
     },
     "execution_count": 36,
     "metadata": {},
     "output_type": "execute_result"
    }
   ],
   "source": [
    "var1"
   ]
  },
  {
   "cell_type": "code",
   "execution_count": 37,
   "id": "94327006",
   "metadata": {},
   "outputs": [
    {
     "data": {
      "text/plain": [
       "<tf.Tensor: shape=(2, 3), dtype=int32, numpy=\n",
       "array([[ 196,    4,    9],\n",
       "       [  36, 1156,   64]])>"
      ]
     },
     "execution_count": 37,
     "metadata": {},
     "output_type": "execute_result"
    }
   ],
   "source": [
    "tf.square(var1)"
   ]
  },
  {
   "cell_type": "markdown",
   "id": "39bbf79c",
   "metadata": {},
   "source": [
    "# Broadcasting inTF"
   ]
  },
  {
   "cell_type": "code",
   "execution_count": 38,
   "id": "df18fa54",
   "metadata": {},
   "outputs": [
    {
     "data": {
      "text/plain": [
       "<tf.Tensor: shape=(2, 3), dtype=int32, numpy=\n",
       "array([[ 56,   8,  12],\n",
       "       [ 24, 136,  32]])>"
      ]
     },
     "execution_count": 38,
     "metadata": {},
     "output_type": "execute_result"
    }
   ],
   "source": [
    "scaler = 4\n",
    "scaler * var1"
   ]
  },
  {
   "cell_type": "markdown",
   "id": "a160424b",
   "metadata": {},
   "source": [
    "# Matrix Multiplication"
   ]
  },
  {
   "cell_type": "code",
   "execution_count": 39,
   "id": "0f8df4c9",
   "metadata": {},
   "outputs": [],
   "source": [
    "mat_x=tf.constant([[1,2,3]])\n",
    "mat_y=tf.constant([[3,4,3]])"
   ]
  },
  {
   "cell_type": "code",
   "execution_count": 40,
   "id": "f05da9d2",
   "metadata": {},
   "outputs": [
    {
     "name": "stdout",
     "output_type": "stream",
     "text": [
      "(1, 3)\n",
      "(1, 3)\n"
     ]
    }
   ],
   "source": [
    "print(mat_x.shape)\n",
    "print(mat_y.shape)"
   ]
  },
  {
   "cell_type": "raw",
   "id": "ba5e813e",
   "metadata": {},
   "source": [
    "for matrix multiplication \n",
    "\n",
    "no of row of A matrix must be equal no of column of B matrix"
   ]
  },
  {
   "cell_type": "code",
   "execution_count": 41,
   "id": "6ec3d8c0",
   "metadata": {},
   "outputs": [
    {
     "ename": "InvalidArgumentError",
     "evalue": "{{function_node __wrapped__MatMul_device_/job:localhost/replica:0/task:0/device:CPU:0}} Matrix size-incompatible: In[0]: [1,3], In[1]: [1,3] [Op:MatMul] name: ",
     "output_type": "error",
     "traceback": [
      "\u001b[1;31m---------------------------------------------------------------------------\u001b[0m",
      "\u001b[1;31mInvalidArgumentError\u001b[0m                      Traceback (most recent call last)",
      "Cell \u001b[1;32mIn[41], line 1\u001b[0m\n\u001b[1;32m----> 1\u001b[0m tf\u001b[38;5;241m.\u001b[39mmatmul(mat_x,mat_y)\n",
      "File \u001b[1;32m~\\anaconda3\\Lib\\site-packages\\tensorflow\\python\\ops\\weak_tensor_ops.py:142\u001b[0m, in \u001b[0;36mweak_tensor_binary_op_wrapper.<locals>.wrapper\u001b[1;34m(*args, **kwargs)\u001b[0m\n\u001b[0;32m    140\u001b[0m \u001b[38;5;28;01mdef\u001b[39;00m \u001b[38;5;21mwrapper\u001b[39m(\u001b[38;5;241m*\u001b[39margs, \u001b[38;5;241m*\u001b[39m\u001b[38;5;241m*\u001b[39mkwargs):\n\u001b[0;32m    141\u001b[0m   \u001b[38;5;28;01mif\u001b[39;00m \u001b[38;5;129;01mnot\u001b[39;00m ops\u001b[38;5;241m.\u001b[39mis_auto_dtype_conversion_enabled():\n\u001b[1;32m--> 142\u001b[0m     \u001b[38;5;28;01mreturn\u001b[39;00m op(\u001b[38;5;241m*\u001b[39margs, \u001b[38;5;241m*\u001b[39m\u001b[38;5;241m*\u001b[39mkwargs)\n\u001b[0;32m    143\u001b[0m   bound_arguments \u001b[38;5;241m=\u001b[39m signature\u001b[38;5;241m.\u001b[39mbind(\u001b[38;5;241m*\u001b[39margs, \u001b[38;5;241m*\u001b[39m\u001b[38;5;241m*\u001b[39mkwargs)\n\u001b[0;32m    144\u001b[0m   bound_arguments\u001b[38;5;241m.\u001b[39mapply_defaults()\n",
      "File \u001b[1;32m~\\anaconda3\\Lib\\site-packages\\tensorflow\\python\\util\\traceback_utils.py:153\u001b[0m, in \u001b[0;36mfilter_traceback.<locals>.error_handler\u001b[1;34m(*args, **kwargs)\u001b[0m\n\u001b[0;32m    151\u001b[0m \u001b[38;5;28;01mexcept\u001b[39;00m \u001b[38;5;167;01mException\u001b[39;00m \u001b[38;5;28;01mas\u001b[39;00m e:\n\u001b[0;32m    152\u001b[0m   filtered_tb \u001b[38;5;241m=\u001b[39m _process_traceback_frames(e\u001b[38;5;241m.\u001b[39m__traceback__)\n\u001b[1;32m--> 153\u001b[0m   \u001b[38;5;28;01mraise\u001b[39;00m e\u001b[38;5;241m.\u001b[39mwith_traceback(filtered_tb) \u001b[38;5;28;01mfrom\u001b[39;00m \u001b[38;5;28;01mNone\u001b[39;00m\n\u001b[0;32m    154\u001b[0m \u001b[38;5;28;01mfinally\u001b[39;00m:\n\u001b[0;32m    155\u001b[0m   \u001b[38;5;28;01mdel\u001b[39;00m filtered_tb\n",
      "File \u001b[1;32m~\\anaconda3\\Lib\\site-packages\\tensorflow\\python\\framework\\ops.py:5883\u001b[0m, in \u001b[0;36mraise_from_not_ok_status\u001b[1;34m(e, name)\u001b[0m\n\u001b[0;32m   5881\u001b[0m \u001b[38;5;28;01mdef\u001b[39;00m \u001b[38;5;21mraise_from_not_ok_status\u001b[39m(e, name) \u001b[38;5;241m-\u001b[39m\u001b[38;5;241m>\u001b[39m NoReturn:\n\u001b[0;32m   5882\u001b[0m   e\u001b[38;5;241m.\u001b[39mmessage \u001b[38;5;241m+\u001b[39m\u001b[38;5;241m=\u001b[39m (\u001b[38;5;124m\"\u001b[39m\u001b[38;5;124m name: \u001b[39m\u001b[38;5;124m\"\u001b[39m \u001b[38;5;241m+\u001b[39m \u001b[38;5;28mstr\u001b[39m(name \u001b[38;5;28;01mif\u001b[39;00m name \u001b[38;5;129;01mis\u001b[39;00m \u001b[38;5;129;01mnot\u001b[39;00m \u001b[38;5;28;01mNone\u001b[39;00m \u001b[38;5;28;01melse\u001b[39;00m \u001b[38;5;124m\"\u001b[39m\u001b[38;5;124m\"\u001b[39m))\n\u001b[1;32m-> 5883\u001b[0m   \u001b[38;5;28;01mraise\u001b[39;00m core\u001b[38;5;241m.\u001b[39m_status_to_exception(e) \u001b[38;5;28;01mfrom\u001b[39;00m \u001b[38;5;28;01mNone\u001b[39;00m\n",
      "\u001b[1;31mInvalidArgumentError\u001b[0m: {{function_node __wrapped__MatMul_device_/job:localhost/replica:0/task:0/device:CPU:0}} Matrix size-incompatible: In[0]: [1,3], In[1]: [1,3] [Op:MatMul] name: "
     ]
    }
   ],
   "source": [
    "tf.matmul(mat_x,mat_y)"
   ]
  },
  {
   "cell_type": "code",
   "execution_count": null,
   "id": "137ef926",
   "metadata": {},
   "outputs": [],
   "source": [
    "tf.matmul(mat_x,tf.transpose(mat_y))"
   ]
  },
  {
   "cell_type": "code",
   "execution_count": null,
   "id": "d235ef9e",
   "metadata": {},
   "outputs": [],
   "source": [
    "mat_x@tf.transpose(mat_y)"
   ]
  },
  {
   "cell_type": "code",
   "execution_count": null,
   "id": "79fddd56",
   "metadata": {},
   "outputs": [],
   "source": [
    "mat_x * mat_y "
   ]
  },
  {
   "cell_type": "markdown",
   "id": "70437d0a",
   "metadata": {},
   "source": [
    "#  Type Casting\n",
    "\n",
    "changes the dtype of the variables"
   ]
  },
  {
   "cell_type": "code",
   "execution_count": 42,
   "id": "f4fe1d93",
   "metadata": {},
   "outputs": [
    {
     "data": {
      "text/plain": [
       "tf.int32"
      ]
     },
     "execution_count": 42,
     "metadata": {},
     "output_type": "execute_result"
    }
   ],
   "source": [
    "mat_x.dtype"
   ]
  },
  {
   "cell_type": "code",
   "execution_count": 43,
   "id": "e37b7530",
   "metadata": {},
   "outputs": [
    {
     "data": {
      "text/plain": [
       "<tf.Tensor: shape=(1, 3), dtype=int16, numpy=array([[1, 2, 3]], dtype=int16)>"
      ]
     },
     "execution_count": 43,
     "metadata": {},
     "output_type": "execute_result"
    }
   ],
   "source": [
    "tf.cast(mat_x, dtype=tf.int16) # can be used in quantizing a model to save the space in the memory allocation"
   ]
  },
  {
   "cell_type": "code",
   "execution_count": 44,
   "id": "82c1413e",
   "metadata": {},
   "outputs": [
    {
     "data": {
      "text/plain": [
       "tf.int32"
      ]
     },
     "execution_count": 44,
     "metadata": {},
     "output_type": "execute_result"
    }
   ],
   "source": [
    "mat_x.dtype"
   ]
  },
  {
   "cell_type": "markdown",
   "id": "0fff5553",
   "metadata": {},
   "source": [
    "# Ragged Tesnors\n",
    "\n",
    "Nested variable length arrays"
   ]
  },
  {
   "cell_type": "code",
   "execution_count": 45,
   "id": "f600837e",
   "metadata": {},
   "outputs": [],
   "source": [
    "ragg=tf.ragged.constant([[1,2,3,4,5],[1],[9,8,7]])"
   ]
  },
  {
   "cell_type": "code",
   "execution_count": 46,
   "id": "953e908d",
   "metadata": {},
   "outputs": [
    {
     "data": {
      "text/plain": [
       "TensorShape([3, None])"
      ]
     },
     "execution_count": 46,
     "metadata": {},
     "output_type": "execute_result"
    }
   ],
   "source": [
    "ragg.shape"
   ]
  },
  {
   "cell_type": "code",
   "execution_count": 47,
   "id": "c356ea75",
   "metadata": {},
   "outputs": [
    {
     "data": {
      "text/plain": [
       "TensorShape([5])"
      ]
     },
     "execution_count": 47,
     "metadata": {},
     "output_type": "execute_result"
    }
   ],
   "source": [
    "ragg[0].shape"
   ]
  },
  {
   "cell_type": "code",
   "execution_count": 48,
   "id": "58b4e612",
   "metadata": {},
   "outputs": [
    {
     "data": {
      "text/plain": [
       "TensorShape([1])"
      ]
     },
     "execution_count": 48,
     "metadata": {},
     "output_type": "execute_result"
    }
   ],
   "source": [
    "ragg[1].shape"
   ]
  },
  {
   "cell_type": "markdown",
   "id": "08e83738",
   "metadata": {},
   "source": [
    "#  Squared difference of tensors"
   ]
  },
  {
   "cell_type": "code",
   "execution_count": 49,
   "id": "b5ed60bb",
   "metadata": {},
   "outputs": [
    {
     "data": {
      "text/plain": [
       "<tf.Tensor: shape=(6,), dtype=int32, numpy=array([ 1,  0,  1,  4,  9, 16])>"
      ]
     },
     "execution_count": 49,
     "metadata": {},
     "output_type": "execute_result"
    }
   ],
   "source": [
    "var_a=[1,2,3,4,5,6]\n",
    "var_b=2\n",
    "\n",
    "tf.math.squared_difference(var_a,var_b)"
   ]
  },
  {
   "cell_type": "code",
   "execution_count": 50,
   "id": "dc404643",
   "metadata": {},
   "outputs": [
    {
     "data": {
      "text/plain": [
       "<tf.Tensor: shape=(6,), dtype=int32, numpy=array([ 0,  1,  4,  9, 16, 25])>"
      ]
     },
     "execution_count": 50,
     "metadata": {},
     "output_type": "execute_result"
    }
   ],
   "source": [
    "pred=[1,2,3,4,5,6]\n",
    "actual=[1,1,1,1,1,1]\n",
    "\n",
    "tf.math.squared_difference(pred,actual)"
   ]
  },
  {
   "cell_type": "markdown",
   "id": "05b1b742",
   "metadata": {},
   "source": [
    "#  Calculate mean"
   ]
  },
  {
   "cell_type": "code",
   "execution_count": 51,
   "id": "947896a9",
   "metadata": {},
   "outputs": [
    {
     "data": {
      "text/plain": [
       "<tf.Tensor: shape=(2, 2), dtype=float32, numpy=\n",
       "array([[1., 2.],\n",
       "       [3., 4.]], dtype=float32)>"
      ]
     },
     "execution_count": 51,
     "metadata": {},
     "output_type": "execute_result"
    }
   ],
   "source": [
    "num=tf.constant([[1,2],[3,4]], dtype=tf.float32)\n",
    "num"
   ]
  },
  {
   "cell_type": "code",
   "execution_count": 52,
   "id": "9c9e503c",
   "metadata": {},
   "outputs": [
    {
     "data": {
      "text/plain": [
       "<tf.Tensor: shape=(), dtype=float32, numpy=2.5>"
      ]
     },
     "execution_count": 52,
     "metadata": {},
     "output_type": "execute_result"
    }
   ],
   "source": [
    "tf.reduce_mean(num) # mean of all the element"
   ]
  },
  {
   "cell_type": "code",
   "execution_count": 53,
   "id": "46de692c",
   "metadata": {},
   "outputs": [
    {
     "data": {
      "text/plain": [
       "<tf.Tensor: shape=(2,), dtype=float32, numpy=array([2., 3.], dtype=float32)>"
      ]
     },
     "execution_count": 53,
     "metadata": {},
     "output_type": "execute_result"
    }
   ],
   "source": [
    "tf.reduce_mean(num, axis=0)  # mean of row element"
   ]
  },
  {
   "cell_type": "code",
   "execution_count": 54,
   "id": "e176566d",
   "metadata": {},
   "outputs": [
    {
     "data": {
      "text/plain": [
       "<tf.Tensor: shape=(2,), dtype=float32, numpy=array([1.5, 3.5], dtype=float32)>"
      ]
     },
     "execution_count": 54,
     "metadata": {},
     "output_type": "execute_result"
    }
   ],
   "source": [
    "tf.reduce_mean(num, axis=1)  # mean of Column element"
   ]
  },
  {
   "cell_type": "code",
   "execution_count": 55,
   "id": "51c7fadd",
   "metadata": {},
   "outputs": [
    {
     "data": {
      "text/plain": [
       "<tf.Tensor: shape=(2, 1), dtype=float32, numpy=\n",
       "array([[1.5],\n",
       "       [3.5]], dtype=float32)>"
      ]
     },
     "execution_count": 55,
     "metadata": {},
     "output_type": "execute_result"
    }
   ],
   "source": [
    "tf.reduce_mean(num, axis=1, keepdims=True)"
   ]
  },
  {
   "cell_type": "code",
   "execution_count": 56,
   "id": "b0964b2e",
   "metadata": {},
   "outputs": [
    {
     "data": {
      "text/plain": [
       "<tf.Tensor: shape=(2,), dtype=float32, numpy=array([1.5, 3.5], dtype=float32)>"
      ]
     },
     "execution_count": 56,
     "metadata": {},
     "output_type": "execute_result"
    }
   ],
   "source": [
    "tf.reduce_mean(num, axis=1, keepdims=False)"
   ]
  },
  {
   "cell_type": "markdown",
   "id": "698bc839",
   "metadata": {},
   "source": [
    "# CheckPointing\n",
    "\n",
    "checkpointing is use restore the matrix values"
   ]
  },
  {
   "cell_type": "code",
   "execution_count": 57,
   "id": "690d48fa",
   "metadata": {},
   "outputs": [],
   "source": [
    "var1= tf.Variable(5*tf.ones([5,5]))"
   ]
  },
  {
   "cell_type": "code",
   "execution_count": 58,
   "id": "89a3f90d",
   "metadata": {},
   "outputs": [
    {
     "data": {
      "text/plain": [
       "<tf.Variable 'Variable:0' shape=(5, 5) dtype=float32, numpy=\n",
       "array([[5., 5., 5., 5., 5.],\n",
       "       [5., 5., 5., 5., 5.],\n",
       "       [5., 5., 5., 5., 5.],\n",
       "       [5., 5., 5., 5., 5.],\n",
       "       [5., 5., 5., 5., 5.]], dtype=float32)>"
      ]
     },
     "execution_count": 58,
     "metadata": {},
     "output_type": "execute_result"
    }
   ],
   "source": [
    "var1"
   ]
  },
  {
   "cell_type": "code",
   "execution_count": 59,
   "id": "a38cae2c",
   "metadata": {},
   "outputs": [],
   "source": [
    "ckpt=tf.train.Checkpoint(var=var1)\n",
    "savepath=ckpt.save(\"./vars.ckpt\")"
   ]
  },
  {
   "cell_type": "code",
   "execution_count": 60,
   "id": "864bc804",
   "metadata": {},
   "outputs": [
    {
     "data": {
      "text/plain": [
       "<tf.Variable 'UnreadVariable' shape=(5, 5) dtype=float32, numpy=\n",
       "array([[0., 0., 0., 0., 0.],\n",
       "       [0., 0., 0., 0., 0.],\n",
       "       [0., 0., 0., 0., 0.],\n",
       "       [0., 0., 0., 0., 0.],\n",
       "       [0., 0., 0., 0., 0.]], dtype=float32)>"
      ]
     },
     "execution_count": 60,
     "metadata": {},
     "output_type": "execute_result"
    }
   ],
   "source": [
    "var1.assign(tf.zeros([5,5]))"
   ]
  },
  {
   "cell_type": "code",
   "execution_count": 61,
   "id": "fd0bf0a3",
   "metadata": {},
   "outputs": [
    {
     "data": {
      "text/plain": [
       "<tf.Variable 'Variable:0' shape=(5, 5) dtype=float32, numpy=\n",
       "array([[0., 0., 0., 0., 0.],\n",
       "       [0., 0., 0., 0., 0.],\n",
       "       [0., 0., 0., 0., 0.],\n",
       "       [0., 0., 0., 0., 0.],\n",
       "       [0., 0., 0., 0., 0.]], dtype=float32)>"
      ]
     },
     "execution_count": 61,
     "metadata": {},
     "output_type": "execute_result"
    }
   ],
   "source": [
    "var1"
   ]
  },
  {
   "cell_type": "markdown",
   "id": "45b0cb98",
   "metadata": {},
   "source": [
    "#  restore the value"
   ]
  },
  {
   "cell_type": "code",
   "execution_count": 62,
   "id": "c70246db",
   "metadata": {},
   "outputs": [
    {
     "data": {
      "text/plain": [
       "<tensorflow.python.checkpoint.checkpoint.CheckpointLoadStatus at 0x252a248f490>"
      ]
     },
     "execution_count": 62,
     "metadata": {},
     "output_type": "execute_result"
    }
   ],
   "source": [
    "ckpt.restore(savepath)"
   ]
  },
  {
   "cell_type": "code",
   "execution_count": 63,
   "id": "37561b78",
   "metadata": {},
   "outputs": [
    {
     "data": {
      "text/plain": [
       "<tf.Variable 'Variable:0' shape=(5, 5) dtype=float32, numpy=\n",
       "array([[5., 5., 5., 5., 5.],\n",
       "       [5., 5., 5., 5., 5.],\n",
       "       [5., 5., 5., 5., 5.],\n",
       "       [5., 5., 5., 5., 5.],\n",
       "       [5., 5., 5., 5., 5.]], dtype=float32)>"
      ]
     },
     "execution_count": 63,
     "metadata": {},
     "output_type": "execute_result"
    }
   ],
   "source": [
    "var1"
   ]
  },
  {
   "cell_type": "markdown",
   "id": "6ecc630a",
   "metadata": {},
   "source": [
    "#  tf.function\n",
    "\n",
    "z=X^3 * 6 + y^3"
   ]
  },
  {
   "cell_type": "code",
   "execution_count": 64,
   "id": "f464ecaf",
   "metadata": {},
   "outputs": [],
   "source": [
    "def f1(x,y):\n",
    "    input_var=tf.multiply(x**3, 6) + y**3\n",
    "    return tf.reduce_mean(input_tensor=input_var)"
   ]
  },
  {
   "cell_type": "code",
   "execution_count": 65,
   "id": "8d6ae252",
   "metadata": {},
   "outputs": [],
   "source": [
    "func= tf.function(f1)  # Tensorflow optimization  \"Parallelization\""
   ]
  },
  {
   "cell_type": "code",
   "execution_count": 66,
   "id": "4547fca5",
   "metadata": {},
   "outputs": [],
   "source": [
    "x=tf.constant([3., -4.])\n",
    "y=tf.constant([1.,4.])"
   ]
  },
  {
   "cell_type": "code",
   "execution_count": 67,
   "id": "e2cc2ffc",
   "metadata": {},
   "outputs": [
    {
     "data": {
      "text/plain": [
       "<tf.Tensor: shape=(), dtype=float32, numpy=-78.5>"
      ]
     },
     "execution_count": 67,
     "metadata": {},
     "output_type": "execute_result"
    }
   ],
   "source": [
    "f1(x,y)  # using simple python function"
   ]
  },
  {
   "cell_type": "code",
   "execution_count": 68,
   "id": "6a7a6902",
   "metadata": {},
   "outputs": [
    {
     "data": {
      "text/plain": [
       "<tf.Tensor: shape=(), dtype=float32, numpy=-78.5>"
      ]
     },
     "execution_count": 68,
     "metadata": {},
     "output_type": "execute_result"
    }
   ],
   "source": [
    "func(x,y)  # using tensorflow function"
   ]
  },
  {
   "cell_type": "code",
   "execution_count": 69,
   "id": "05b49439",
   "metadata": {},
   "outputs": [],
   "source": [
    "@tf.function ## tf decorator function it tries to be a wrapper of below function & without changing the definition of the function.\n",
    "\n",
    "def f2(x,y):\n",
    "    input_var=tf.multiply(x**3, 6) + y**3\n",
    "    return tf.reduce_mean(input_tensor=input_var)\n"
   ]
  },
  {
   "cell_type": "code",
   "execution_count": 70,
   "id": "0c9c613c",
   "metadata": {},
   "outputs": [
    {
     "data": {
      "text/plain": [
       "<tf.Tensor: shape=(), dtype=float32, numpy=-78.5>"
      ]
     },
     "execution_count": 70,
     "metadata": {},
     "output_type": "execute_result"
    }
   ],
   "source": [
    "f2(x,y)  # behave as a tensor flow function"
   ]
  },
  {
   "cell_type": "markdown",
   "id": "93c3a098",
   "metadata": {},
   "source": [
    "#  Example of decorator"
   ]
  },
  {
   "cell_type": "code",
   "execution_count": 71,
   "id": "8c77ff09",
   "metadata": {},
   "outputs": [],
   "source": [
    "def print_me():\n",
    "    print(\"Hi DL\")"
   ]
  },
  {
   "cell_type": "code",
   "execution_count": 72,
   "id": "08a865bd",
   "metadata": {},
   "outputs": [
    {
     "name": "stdout",
     "output_type": "stream",
     "text": [
      "Hi DL\n"
     ]
    }
   ],
   "source": [
    "print_me()"
   ]
  },
  {
   "cell_type": "code",
   "execution_count": 73,
   "id": "b90a8c47",
   "metadata": {},
   "outputs": [
    {
     "name": "stdout",
     "output_type": "stream",
     "text": [
      "------------------------------------------------------------\n",
      "Hi DL\n",
      "------------------------------------------------------------\n"
     ]
    }
   ],
   "source": [
    "print(\"--\"*30)\n",
    "print_me()\n",
    "print(\"--\"*30)"
   ]
  },
  {
   "cell_type": "code",
   "execution_count": 74,
   "id": "e2288ec4",
   "metadata": {},
   "outputs": [],
   "source": [
    "def decorate_it(input_func):# wrapper func it will take the definition of input funcand return the decorated func\n",
    "    def decorated_func():\n",
    "        print(\"--\"*30)\n",
    "        input_func()\n",
    "        print(\"--\"*30)\n",
    "        \n",
    "        \n",
    "    return decorated_func\n"
   ]
  },
  {
   "cell_type": "code",
   "execution_count": 75,
   "id": "188e02a3",
   "metadata": {},
   "outputs": [
    {
     "name": "stdout",
     "output_type": "stream",
     "text": [
      "------------------------------------------------------------\n",
      "Hi DL\n",
      "------------------------------------------------------------\n"
     ]
    }
   ],
   "source": [
    "decorated_func=decorate_it(print_me)\n",
    "decorated_func()"
   ]
  },
  {
   "cell_type": "code",
   "execution_count": 76,
   "id": "ef58147b",
   "metadata": {},
   "outputs": [],
   "source": [
    "@decorate_it\n",
    "def print_me2():\n",
    "    print(\"Hi DL\")"
   ]
  },
  {
   "cell_type": "code",
   "execution_count": 77,
   "id": "bd56f9a6",
   "metadata": {},
   "outputs": [
    {
     "name": "stdout",
     "output_type": "stream",
     "text": [
      "------------------------------------------------------------\n",
      "Hi DL\n",
      "------------------------------------------------------------\n"
     ]
    }
   ],
   "source": [
    "print_me2()  #best method"
   ]
  },
  {
   "cell_type": "code",
   "execution_count": 78,
   "id": "aa21c983",
   "metadata": {},
   "outputs": [],
   "source": [
    "@decorate_it\n",
    "def print_my_name():\n",
    "    print('Arvind')"
   ]
  },
  {
   "cell_type": "code",
   "execution_count": 79,
   "id": "afcbdeb9",
   "metadata": {},
   "outputs": [
    {
     "name": "stdout",
     "output_type": "stream",
     "text": [
      "------------------------------------------------------------\n",
      "Arvind\n",
      "------------------------------------------------------------\n"
     ]
    }
   ],
   "source": [
    "print_my_name()"
   ]
  },
  {
   "cell_type": "code",
   "execution_count": 82,
   "id": "bee876bc",
   "metadata": {},
   "outputs": [],
   "source": [
    "@decorate_it\n",
    "def mynameee():\n",
    "    print('Avi')"
   ]
  },
  {
   "cell_type": "code",
   "execution_count": 83,
   "id": "376e00b2",
   "metadata": {},
   "outputs": [
    {
     "name": "stdout",
     "output_type": "stream",
     "text": [
      "------------------------------------------------------------\n",
      "Avi\n",
      "------------------------------------------------------------\n"
     ]
    }
   ],
   "source": [
    "mynameee()"
   ]
  },
  {
   "cell_type": "markdown",
   "id": "69f92ff5",
   "metadata": {},
   "source": [
    "#  Calculation of Gradients in tf"
   ]
  },
  {
   "cell_type": "code",
   "execution_count": 84,
   "id": "013066e6",
   "metadata": {},
   "outputs": [],
   "source": [
    "x=tf.random.normal(shape=(2,2)) # normal creates a constant value by default.\n",
    "y=tf.random.normal(shape=(2,2))"
   ]
  },
  {
   "cell_type": "markdown",
   "id": "82c4a72d",
   "metadata": {},
   "source": [
    "#  lets say we have a function of x &y \n",
    "\n",
    "# f(x,y)=sqrt{(x^2 + y^2)}\n",
    "# nabla/gradient {f(x,y)}=  (df/dx)i + (df/dy)j   partial derivative"
   ]
  },
  {
   "cell_type": "code",
   "execution_count": 85,
   "id": "4698e1f6",
   "metadata": {},
   "outputs": [
    {
     "name": "stdout",
     "output_type": "stream",
     "text": [
      "tf.Tensor(\n",
      "[[-0.6670661  -0.9292622 ]\n",
      " [ 0.76460296  0.4972051 ]], shape=(2, 2), dtype=float32)\n"
     ]
    }
   ],
   "source": [
    "with tf.GradientTape() as tape:  # help you to calculate the gradient\n",
    "    tape.watch(x)  # watch the variable x\n",
    "    f=tf.sqrt(tf.square(x) + tf.square(y))  # function definition\n",
    "    \n",
    "    df_dx= tape.gradient(f,x) # derivate of f w.r.t x\n",
    "    print(df_dx)"
   ]
  },
  {
   "cell_type": "code",
   "execution_count": 86,
   "id": "32ddebfd",
   "metadata": {},
   "outputs": [
    {
     "name": "stdout",
     "output_type": "stream",
     "text": [
      "df_dx tf.Tensor(\n",
      "[[-0.6670661  -0.9292622 ]\n",
      " [ 0.76460296  0.4972051 ]], shape=(2, 2), dtype=float32)\n",
      "df_dy tf.Tensor(\n",
      "[[-0.7449985  -0.36942068]\n",
      " [-0.6445015   0.867633  ]], shape=(2, 2), dtype=float32)\n"
     ]
    }
   ],
   "source": [
    "#tf.wartch is only need when x & y are  not variables\n",
    "\n",
    "with tf.GradientTape() as tape:  # help you to calculate the gradient\n",
    "    tape.watch(x) # I want to calculate grad w.r.t 'x'\n",
    "    tape.watch(y) # I want to calculate grad w.r.t 'y'\n",
    "    f=tf.sqrt(tf.square(x) + tf.square(y))  # function definition\n",
    "    \n",
    "    df_dx, df_dy= tape.gradient(f,[x,y]) # partial derivates of 'f' w.r.t 'x' & 'y' \n",
    "    print(\"df_dx\",df_dx)\n",
    "    print(\"df_dy\",df_dy)"
   ]
  },
  {
   "cell_type": "code",
   "execution_count": 87,
   "id": "6577ab46",
   "metadata": {},
   "outputs": [],
   "source": [
    "x1=tf.Variable(tf.random.normal(shape=(2,2)))\n",
    "y1=tf.Variable(tf.random.normal(shape=(2,2)))"
   ]
  },
  {
   "cell_type": "code",
   "execution_count": 88,
   "id": "f782670c",
   "metadata": {},
   "outputs": [
    {
     "name": "stdout",
     "output_type": "stream",
     "text": [
      "df_dx tf.Tensor(\n",
      "[[ 0.94413537 -0.8564534 ]\n",
      " [ 0.730928    0.52012444]], shape=(2, 2), dtype=float32)\n",
      "df_dy tf.Tensor(\n",
      "[[-0.32955804  0.5162244 ]\n",
      " [-0.6824546   0.8540906 ]], shape=(2, 2), dtype=float32)\n"
     ]
    }
   ],
   "source": [
    "with tf.GradientTape() as tape:  # help you to calculate the gradient\n",
    "    #tape.watch(x) # I want to calculate grad w.r.t 'x'\n",
    "    #tape.watch(y) # I want to calculate grad w.r.t 'y'\n",
    "    f=tf.sqrt(tf.square(x1) + tf.square(y1))  # function definition\n",
    "    \n",
    "    df_dx, df_dy= tape.gradient(f,[x1,y1]) # partial derivates of 'f' w.r.t 'x' & 'y' \n",
    "    print(\"df_dx\",df_dx)\n",
    "    print(\"df_dy\",df_dy)"
   ]
  },
  {
   "cell_type": "code",
   "execution_count": null,
   "id": "257294a5",
   "metadata": {},
   "outputs": [],
   "source": [
    "x2=tf.Variable(3.)\n",
    "y2=tf.Variable(2.)\n",
    "with tf.GradientTape() as tape:\n",
    "    f=tf.sqrt(tf.square(x2) + tf.square(y2))\n",
    "    \n",
    "    df_dx, df_dy= tape.gradient(f,[x2,y2])\n",
    "    print(\"df_dx\",df_dx)\n",
    "    print(\"df_dy\",df_dy)\n",
    "              "
   ]
  },
  {
   "cell_type": "code",
   "execution_count": null,
   "id": "9dd4d130",
   "metadata": {},
   "outputs": [],
   "source": [
    "x2/tf.sqrt(tf.square(x2) + tf.square(y2))  # verify"
   ]
  },
  {
   "cell_type": "code",
   "execution_count": null,
   "id": "48a3ce48",
   "metadata": {},
   "outputs": [],
   "source": [
    "y2/tf.sqrt(tf.square(x2) + tf.square(y2))"
   ]
  },
  {
   "cell_type": "markdown",
   "id": "cecadd55",
   "metadata": {},
   "source": [
    "# Simple Linear Regression\n",
    "\n",
    "f(x)= W.b + b"
   ]
  },
  {
   "cell_type": "code",
   "execution_count": null,
   "id": "a3caa83c",
   "metadata": {},
   "outputs": [],
   "source": [
    "TRUE_W=3.0\n",
    "TRUE_B=2.0\n",
    "NUM_EXAMPLES=1000\n",
    "x= tf.random.normal(shape=[NUM_EXAMPLES])"
   ]
  },
  {
   "cell_type": "code",
   "execution_count": null,
   "id": "0d51e305",
   "metadata": {},
   "outputs": [],
   "source": [
    "noise = tf.random.normal(shape=[NUM_EXAMPLES])"
   ]
  },
  {
   "cell_type": "code",
   "execution_count": null,
   "id": "6481b5b2",
   "metadata": {},
   "outputs": [],
   "source": [
    "y=x*TRUE_W+TRUE_B+noise"
   ]
  },
  {
   "cell_type": "code",
   "execution_count": null,
   "id": "9f39b4c4",
   "metadata": {},
   "outputs": [],
   "source": [
    "import matplotlib.pyplot as plt\n",
    "\n",
    "plt.scatter(x,y,c='r')\n",
    "plt.show()"
   ]
  },
  {
   "cell_type": "markdown",
   "id": "dc688822",
   "metadata": {},
   "source": [
    "#  Let's define a model"
   ]
  },
  {
   "cell_type": "code",
   "execution_count": null,
   "id": "05fc5aa6",
   "metadata": {},
   "outputs": [],
   "source": [
    "class MyModel(tf.Module):  # define class and inherit tf.Module\n",
    "    def __init__(self, **kwargs):\n",
    "        super().__init__(**kwargs)\n",
    "        \n",
    "        self.w=tf.Variable(5.0)\n",
    "        self.b=tf.Variable(0.0)\n",
    "        \n",
    "    def __call__(self,x):\n",
    "        return self.w*x +self.b"
   ]
  },
  {
   "cell_type": "code",
   "execution_count": null,
   "id": "e7741ec5",
   "metadata": {},
   "outputs": [],
   "source": [
    "model=MyModel()"
   ]
  },
  {
   "cell_type": "code",
   "execution_count": null,
   "id": "ae0ccb02",
   "metadata": {},
   "outputs": [],
   "source": [
    "model(5)"
   ]
  },
  {
   "cell_type": "code",
   "execution_count": null,
   "id": "f5bc798d",
   "metadata": {},
   "outputs": [],
   "source": [
    "model.b\n",
    "model.w\n",
    "model.variables"
   ]
  },
  {
   "cell_type": "code",
   "execution_count": null,
   "id": "00ee5326",
   "metadata": {},
   "outputs": [],
   "source": [
    "def MSE_loss(target_y,predicted_y):\n",
    "    error=target_y - predicted_y\n",
    "    squared_error=tf.square(error)\n",
    "    mse=tf.reduce_mean(squared_error)\n",
    "    return mse"
   ]
  },
  {
   "cell_type": "code",
   "execution_count": null,
   "id": "7a446a87",
   "metadata": {},
   "outputs": [],
   "source": [
    "plt.scatter(x,y,c='b')\n",
    "pred_y=model(x)  # without training\n",
    "plt.scatter(x,pred_y,c='r')\n",
    "plt.show()"
   ]
  },
  {
   "cell_type": "code",
   "execution_count": null,
   "id": "09097242",
   "metadata": {},
   "outputs": [],
   "source": [
    "current_loss=MSE_loss(y,model(x))\n",
    "current_loss.numpy()"
   ]
  },
  {
   "cell_type": "markdown",
   "id": "466e9d8a",
   "metadata": {},
   "source": [
    "#  training function"
   ]
  },
  {
   "cell_type": "code",
   "execution_count": null,
   "id": "8b91d984",
   "metadata": {},
   "outputs": [],
   "source": [
    "def train1(model,x,y,learning_rate):\n",
    "\n",
    "    with tf.GradientTape() as tape:\n",
    "        current_loss=MSE_loss(y, model(x))\n",
    "        \n",
    "    dc_dw,dc_db = tape.gradient(current_loss, [model.w, model.b])\n",
    "    \n",
    "    model.w.assign_sub(learning_rate* dc_dw)  # w=w-learning_rate(de/dw)\n",
    "    model.b.assign_sub(learning_rate* dc_db) ## b=b-learning_rate(de/db)"
   ]
  },
  {
   "cell_type": "code",
   "execution_count": null,
   "id": "10e4a4dd",
   "metadata": {},
   "outputs": [],
   "source": [
    "model=MyModel()\n",
    "\n",
    "ws,bs =[], []\n",
    "\n",
    "epochs=10\n",
    "learning_rate=0.1\n",
    "\n",
    "w=model.w.numpy()\n",
    "b=model.b.numpy()\n",
    "\n",
    "init_loss = MSE_loss(y,model(x)).numpy()\n",
    "\n",
    "print(f\"initial W:{w}, initial bias: {b}, initial loss: {init_loss}\")"
   ]
  },
  {
   "cell_type": "code",
   "execution_count": null,
   "id": "902ce2b8",
   "metadata": {},
   "outputs": [],
   "source": [
    "for epoch in range(epochs):\n",
    "    train1(model,x,y,learning_rate)\n",
    "    \n",
    "    ws.append(model.w.numpy())\n",
    "    bs.append(model.b.numpy())\n",
    "    \n",
    "    current_loss=MSE_loss(y,model(x))\n",
    "    \n",
    "    print(f\"for epoch: {epoch}, w:{ws[-1]}, b:{bs[-1]}, current_loss:{current_loss}\")\n"
   ]
  },
  {
   "cell_type": "code",
   "execution_count": null,
   "id": "058b668a",
   "metadata": {},
   "outputs": [],
   "source": [
    "plt.plot(range(epochs), Ws, 'r', range(epochs), bs, \"b\")\n",
    "\n",
    "plt.plot([TRUE_W] * epochs, \"r--\", [TRUE_B] * epochs, \"b--\")\n",
    "\n",
    "plt.legend([\"W\", \"b\", \"True W\", \"True B\"])\n",
    "\n",
    "plt.show()"
   ]
  },
  {
   "cell_type": "code",
   "execution_count": null,
   "id": "edfe3faa",
   "metadata": {},
   "outputs": [],
   "source": [
    "plt.scatter(x, y, c=\"b\")\n",
    "\n",
    "pred_y = model(x) ## after training\n",
    "plt.scatter(x, pred_y, c=\"r\") \n",
    "\n",
    "plt.show()"
   ]
  },
  {
   "cell_type": "code",
   "execution_count": null,
   "id": "35c7b7c9",
   "metadata": {},
   "outputs": [],
   "source": []
  }
 ],
 "metadata": {
  "kernelspec": {
   "display_name": "Python 3 (ipykernel)",
   "language": "python",
   "name": "python3"
  },
  "language_info": {
   "codemirror_mode": {
    "name": "ipython",
    "version": 3
   },
   "file_extension": ".py",
   "mimetype": "text/x-python",
   "name": "python",
   "nbconvert_exporter": "python",
   "pygments_lexer": "ipython3",
   "version": "3.11.4"
  }
 },
 "nbformat": 4,
 "nbformat_minor": 5
}
